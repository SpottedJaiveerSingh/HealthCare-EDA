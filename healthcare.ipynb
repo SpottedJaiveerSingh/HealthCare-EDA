{
 "cells": [
  {
   "cell_type": "markdown",
   "metadata": {},
   "source": [
    "<h1>Context</h1>"
   ]
  },
  {
   "cell_type": "markdown",
   "metadata": {},
   "source": [
    "  <p>Understanding data requires analyzing different statistical parameters. Based on the given dataset, here’s how you can interpret key aspects:</p>\n",
    "        <ul>\n",
    "            <li><strong>Age:</strong> Analyze the range (min 13, max 88) and mean (51.6) to understand the patient demographics.</li>\n",
    "            <li><strong>Billing Amount:</strong> Identify anomalies like negative values, which may indicate refunds or errors.</li>\n",
    "            <li><strong>Room Number:</strong> Study its distribution to understand hospital structure and patient accommodation.</li>\n",
    "            <li><strong>Hospital Stay Duration:</strong> Look for inconsistencies like negative values and extreme variations.</li>\n",
    "            <li><strong>Admission Year, Month, and Weekday:</strong> Identify trends and seasonality in hospital admissions.</li>\n",
    "        </ul>\n",
    "        <p>By examining these parameters, we can detect patterns, trends, and potential data issues.</p>"
   ]
  },
  {
   "cell_type": "markdown",
   "metadata": {},
   "source": [
    "<h2>Exploratory Data Analysis (EDA) Project</h2>"
   ]
  },
  {
   "cell_type": "code",
   "execution_count": null,
   "metadata": {
    "id": "WdhLFrciAJ_o"
   },
   "outputs": [],
   "source": [
    "import pandas as pd\n",
    "import numpy as np\n",
    "import seaborn as sns\n",
    "import matplotlib.pyplot as plt\n",
    "import warnings\n",
    "warnings.filterwarnings('ignore')"
   ]
  },
  {
   "cell_type": "markdown",
   "metadata": {},
   "source": [
    "<h3>Load the Data</h3>"
   ]
  },
  {
   "cell_type": "code",
   "execution_count": null,
   "metadata": {
    "id": "X-KFrV-FAOol"
   },
   "outputs": [],
   "source": [
    "df = pd.read_csv(\"/content/cleaned_healthcare_data.csv\")"
   ]
  },
  {
   "cell_type": "markdown",
   "metadata": {
    "id": "IfggYimFGU2G"
   },
   "source": [
    " *Displaying the First Five Rows*"
   ]
  },
  {
   "cell_type": "code",
   "execution_count": null,
   "metadata": {
    "colab": {
     "base_uri": "https://localhost:8080/",
     "height": 394
    },
    "id": "FMKQelqKAOlJ",
    "outputId": "fdee1713-cd4f-45c4-afd4-6604b30a3943"
   },
   "outputs": [
    {
     "data": {
      "application/vnd.google.colaboratory.intrinsic+json": {
       "type": "dataframe",
       "variable_name": "df"
      },
      "text/html": [
       "\n",
       "  <div id=\"df-1a0b6ad5-1733-4c7c-8c16-039a9d246099\" class=\"colab-df-container\">\n",
       "    <div>\n",
       "<style scoped>\n",
       "    .dataframe tbody tr th:only-of-type {\n",
       "        vertical-align: middle;\n",
       "    }\n",
       "\n",
       "    .dataframe tbody tr th {\n",
       "        vertical-align: top;\n",
       "    }\n",
       "\n",
       "    .dataframe thead th {\n",
       "        text-align: right;\n",
       "    }\n",
       "</style>\n",
       "<table border=\"1\" class=\"dataframe\">\n",
       "  <thead>\n",
       "    <tr style=\"text-align: right;\">\n",
       "      <th></th>\n",
       "      <th>Name</th>\n",
       "      <th>Age</th>\n",
       "      <th>Gender</th>\n",
       "      <th>Blood Type</th>\n",
       "      <th>Medical Condition</th>\n",
       "      <th>Date of Admission</th>\n",
       "      <th>Doctor</th>\n",
       "      <th>Hospital</th>\n",
       "      <th>Insurance Provider</th>\n",
       "      <th>Billing Amount</th>\n",
       "      <th>...</th>\n",
       "      <th>Admission Type</th>\n",
       "      <th>Discharge Date</th>\n",
       "      <th>Medication</th>\n",
       "      <th>Test Results</th>\n",
       "      <th>hospital_stay_duration</th>\n",
       "      <th>age_group</th>\n",
       "      <th>admission_year</th>\n",
       "      <th>admission_month</th>\n",
       "      <th>admission_weekday</th>\n",
       "      <th>hospital_category</th>\n",
       "    </tr>\n",
       "  </thead>\n",
       "  <tbody>\n",
       "    <tr>\n",
       "      <th>0</th>\n",
       "      <td>Bobby JacksOn</td>\n",
       "      <td>30</td>\n",
       "      <td>Male</td>\n",
       "      <td>B-</td>\n",
       "      <td>Cancer</td>\n",
       "      <td>2024-01-31</td>\n",
       "      <td>Matthew Smith</td>\n",
       "      <td>Sons and Miller</td>\n",
       "      <td>Blue Cross</td>\n",
       "      <td>18856.281306</td>\n",
       "      <td>...</td>\n",
       "      <td>Urgent</td>\n",
       "      <td>2024-02-02</td>\n",
       "      <td>Paracetamol</td>\n",
       "      <td>Normal</td>\n",
       "      <td>2</td>\n",
       "      <td>Child</td>\n",
       "      <td>2024</td>\n",
       "      <td>1</td>\n",
       "      <td>2</td>\n",
       "      <td>Very High</td>\n",
       "    </tr>\n",
       "    <tr>\n",
       "      <th>1</th>\n",
       "      <td>DaNnY sMitH</td>\n",
       "      <td>76</td>\n",
       "      <td>Female</td>\n",
       "      <td>A-</td>\n",
       "      <td>Obesity</td>\n",
       "      <td>2022-09-22</td>\n",
       "      <td>Tiffany Mitchell</td>\n",
       "      <td>Cook PLC</td>\n",
       "      <td>Aetna</td>\n",
       "      <td>27955.096079</td>\n",
       "      <td>...</td>\n",
       "      <td>Emergency</td>\n",
       "      <td>2022-07-10</td>\n",
       "      <td>Aspirin</td>\n",
       "      <td>Normal</td>\n",
       "      <td>-74</td>\n",
       "      <td>Senior</td>\n",
       "      <td>2022</td>\n",
       "      <td>9</td>\n",
       "      <td>3</td>\n",
       "      <td>Very High</td>\n",
       "    </tr>\n",
       "    <tr>\n",
       "      <th>2</th>\n",
       "      <td>adrIENNE bEll</td>\n",
       "      <td>43</td>\n",
       "      <td>Female</td>\n",
       "      <td>AB+</td>\n",
       "      <td>Cancer</td>\n",
       "      <td>2022-09-19</td>\n",
       "      <td>Kathleen Hanna</td>\n",
       "      <td>White-White</td>\n",
       "      <td>Aetna</td>\n",
       "      <td>14238.317814</td>\n",
       "      <td>...</td>\n",
       "      <td>Urgent</td>\n",
       "      <td>2022-09-10</td>\n",
       "      <td>Penicillin</td>\n",
       "      <td>Abnormal</td>\n",
       "      <td>-9</td>\n",
       "      <td>Adult</td>\n",
       "      <td>2022</td>\n",
       "      <td>9</td>\n",
       "      <td>0</td>\n",
       "      <td>Medium</td>\n",
       "    </tr>\n",
       "    <tr>\n",
       "      <th>3</th>\n",
       "      <td>CHrisTInA MARtinez</td>\n",
       "      <td>20</td>\n",
       "      <td>Female</td>\n",
       "      <td>A+</td>\n",
       "      <td>Cancer</td>\n",
       "      <td>2021-12-28</td>\n",
       "      <td>Suzanne Thomas</td>\n",
       "      <td>Powell Robinson and Valdez,</td>\n",
       "      <td>Cigna</td>\n",
       "      <td>45820.462722</td>\n",
       "      <td>...</td>\n",
       "      <td>Emergency</td>\n",
       "      <td>2022-07-01</td>\n",
       "      <td>Paracetamol</td>\n",
       "      <td>Inconclusive</td>\n",
       "      <td>185</td>\n",
       "      <td>Child</td>\n",
       "      <td>2021</td>\n",
       "      <td>12</td>\n",
       "      <td>1</td>\n",
       "      <td>Very High</td>\n",
       "    </tr>\n",
       "    <tr>\n",
       "      <th>4</th>\n",
       "      <td>aaRon MARtiNeZ</td>\n",
       "      <td>38</td>\n",
       "      <td>Female</td>\n",
       "      <td>A-</td>\n",
       "      <td>Hypertension</td>\n",
       "      <td>2023-08-13</td>\n",
       "      <td>Douglas Mayo</td>\n",
       "      <td>Lyons-Blair</td>\n",
       "      <td>Medicare</td>\n",
       "      <td>7999.586880</td>\n",
       "      <td>...</td>\n",
       "      <td>Urgent</td>\n",
       "      <td>2023-05-09</td>\n",
       "      <td>Lipitor</td>\n",
       "      <td>Inconclusive</td>\n",
       "      <td>-96</td>\n",
       "      <td>Child</td>\n",
       "      <td>2023</td>\n",
       "      <td>8</td>\n",
       "      <td>6</td>\n",
       "      <td>Low</td>\n",
       "    </tr>\n",
       "  </tbody>\n",
       "</table>\n",
       "<p>5 rows × 21 columns</p>\n",
       "</div>\n",
       "    <div class=\"colab-df-buttons\">\n",
       "\n",
       "  <div class=\"colab-df-container\">\n",
       "    <button class=\"colab-df-convert\" onclick=\"convertToInteractive('df-1a0b6ad5-1733-4c7c-8c16-039a9d246099')\"\n",
       "            title=\"Convert this dataframe to an interactive table.\"\n",
       "            style=\"display:none;\">\n",
       "\n",
       "  <svg xmlns=\"http://www.w3.org/2000/svg\" height=\"24px\" viewBox=\"0 -960 960 960\">\n",
       "    <path d=\"M120-120v-720h720v720H120Zm60-500h600v-160H180v160Zm220 220h160v-160H400v160Zm0 220h160v-160H400v160ZM180-400h160v-160H180v160Zm440 0h160v-160H620v160ZM180-180h160v-160H180v160Zm440 0h160v-160H620v160Z\"/>\n",
       "  </svg>\n",
       "    </button>\n",
       "\n",
       "  <style>\n",
       "    .colab-df-container {\n",
       "      display:flex;\n",
       "      gap: 12px;\n",
       "    }\n",
       "\n",
       "    .colab-df-convert {\n",
       "      background-color: #E8F0FE;\n",
       "      border: none;\n",
       "      border-radius: 50%;\n",
       "      cursor: pointer;\n",
       "      display: none;\n",
       "      fill: #1967D2;\n",
       "      height: 32px;\n",
       "      padding: 0 0 0 0;\n",
       "      width: 32px;\n",
       "    }\n",
       "\n",
       "    .colab-df-convert:hover {\n",
       "      background-color: #E2EBFA;\n",
       "      box-shadow: 0px 1px 2px rgba(60, 64, 67, 0.3), 0px 1px 3px 1px rgba(60, 64, 67, 0.15);\n",
       "      fill: #174EA6;\n",
       "    }\n",
       "\n",
       "    .colab-df-buttons div {\n",
       "      margin-bottom: 4px;\n",
       "    }\n",
       "\n",
       "    [theme=dark] .colab-df-convert {\n",
       "      background-color: #3B4455;\n",
       "      fill: #D2E3FC;\n",
       "    }\n",
       "\n",
       "    [theme=dark] .colab-df-convert:hover {\n",
       "      background-color: #434B5C;\n",
       "      box-shadow: 0px 1px 3px 1px rgba(0, 0, 0, 0.15);\n",
       "      filter: drop-shadow(0px 1px 2px rgba(0, 0, 0, 0.3));\n",
       "      fill: #FFFFFF;\n",
       "    }\n",
       "  </style>\n",
       "\n",
       "    <script>\n",
       "      const buttonEl =\n",
       "        document.querySelector('#df-1a0b6ad5-1733-4c7c-8c16-039a9d246099 button.colab-df-convert');\n",
       "      buttonEl.style.display =\n",
       "        google.colab.kernel.accessAllowed ? 'block' : 'none';\n",
       "\n",
       "      async function convertToInteractive(key) {\n",
       "        const element = document.querySelector('#df-1a0b6ad5-1733-4c7c-8c16-039a9d246099');\n",
       "        const dataTable =\n",
       "          await google.colab.kernel.invokeFunction('convertToInteractive',\n",
       "                                                    [key], {});\n",
       "        if (!dataTable) return;\n",
       "\n",
       "        const docLinkHtml = 'Like what you see? Visit the ' +\n",
       "          '<a target=\"_blank\" href=https://colab.research.google.com/notebooks/data_table.ipynb>data table notebook</a>'\n",
       "          + ' to learn more about interactive tables.';\n",
       "        element.innerHTML = '';\n",
       "        dataTable['output_type'] = 'display_data';\n",
       "        await google.colab.output.renderOutput(dataTable, element);\n",
       "        const docLink = document.createElement('div');\n",
       "        docLink.innerHTML = docLinkHtml;\n",
       "        element.appendChild(docLink);\n",
       "      }\n",
       "    </script>\n",
       "  </div>\n",
       "\n",
       "\n",
       "<div id=\"df-23d3f486-aba0-454c-801c-08583d6bf00a\">\n",
       "  <button class=\"colab-df-quickchart\" onclick=\"quickchart('df-23d3f486-aba0-454c-801c-08583d6bf00a')\"\n",
       "            title=\"Suggest charts\"\n",
       "            style=\"display:none;\">\n",
       "\n",
       "<svg xmlns=\"http://www.w3.org/2000/svg\" height=\"24px\"viewBox=\"0 0 24 24\"\n",
       "     width=\"24px\">\n",
       "    <g>\n",
       "        <path d=\"M19 3H5c-1.1 0-2 .9-2 2v14c0 1.1.9 2 2 2h14c1.1 0 2-.9 2-2V5c0-1.1-.9-2-2-2zM9 17H7v-7h2v7zm4 0h-2V7h2v10zm4 0h-2v-4h2v4z\"/>\n",
       "    </g>\n",
       "</svg>\n",
       "  </button>\n",
       "\n",
       "<style>\n",
       "  .colab-df-quickchart {\n",
       "      --bg-color: #E8F0FE;\n",
       "      --fill-color: #1967D2;\n",
       "      --hover-bg-color: #E2EBFA;\n",
       "      --hover-fill-color: #174EA6;\n",
       "      --disabled-fill-color: #AAA;\n",
       "      --disabled-bg-color: #DDD;\n",
       "  }\n",
       "\n",
       "  [theme=dark] .colab-df-quickchart {\n",
       "      --bg-color: #3B4455;\n",
       "      --fill-color: #D2E3FC;\n",
       "      --hover-bg-color: #434B5C;\n",
       "      --hover-fill-color: #FFFFFF;\n",
       "      --disabled-bg-color: #3B4455;\n",
       "      --disabled-fill-color: #666;\n",
       "  }\n",
       "\n",
       "  .colab-df-quickchart {\n",
       "    background-color: var(--bg-color);\n",
       "    border: none;\n",
       "    border-radius: 50%;\n",
       "    cursor: pointer;\n",
       "    display: none;\n",
       "    fill: var(--fill-color);\n",
       "    height: 32px;\n",
       "    padding: 0;\n",
       "    width: 32px;\n",
       "  }\n",
       "\n",
       "  .colab-df-quickchart:hover {\n",
       "    background-color: var(--hover-bg-color);\n",
       "    box-shadow: 0 1px 2px rgba(60, 64, 67, 0.3), 0 1px 3px 1px rgba(60, 64, 67, 0.15);\n",
       "    fill: var(--button-hover-fill-color);\n",
       "  }\n",
       "\n",
       "  .colab-df-quickchart-complete:disabled,\n",
       "  .colab-df-quickchart-complete:disabled:hover {\n",
       "    background-color: var(--disabled-bg-color);\n",
       "    fill: var(--disabled-fill-color);\n",
       "    box-shadow: none;\n",
       "  }\n",
       "\n",
       "  .colab-df-spinner {\n",
       "    border: 2px solid var(--fill-color);\n",
       "    border-color: transparent;\n",
       "    border-bottom-color: var(--fill-color);\n",
       "    animation:\n",
       "      spin 1s steps(1) infinite;\n",
       "  }\n",
       "\n",
       "  @keyframes spin {\n",
       "    0% {\n",
       "      border-color: transparent;\n",
       "      border-bottom-color: var(--fill-color);\n",
       "      border-left-color: var(--fill-color);\n",
       "    }\n",
       "    20% {\n",
       "      border-color: transparent;\n",
       "      border-left-color: var(--fill-color);\n",
       "      border-top-color: var(--fill-color);\n",
       "    }\n",
       "    30% {\n",
       "      border-color: transparent;\n",
       "      border-left-color: var(--fill-color);\n",
       "      border-top-color: var(--fill-color);\n",
       "      border-right-color: var(--fill-color);\n",
       "    }\n",
       "    40% {\n",
       "      border-color: transparent;\n",
       "      border-right-color: var(--fill-color);\n",
       "      border-top-color: var(--fill-color);\n",
       "    }\n",
       "    60% {\n",
       "      border-color: transparent;\n",
       "      border-right-color: var(--fill-color);\n",
       "    }\n",
       "    80% {\n",
       "      border-color: transparent;\n",
       "      border-right-color: var(--fill-color);\n",
       "      border-bottom-color: var(--fill-color);\n",
       "    }\n",
       "    90% {\n",
       "      border-color: transparent;\n",
       "      border-bottom-color: var(--fill-color);\n",
       "    }\n",
       "  }\n",
       "</style>\n",
       "\n",
       "  <script>\n",
       "    async function quickchart(key) {\n",
       "      const quickchartButtonEl =\n",
       "        document.querySelector('#' + key + ' button');\n",
       "      quickchartButtonEl.disabled = true;  // To prevent multiple clicks.\n",
       "      quickchartButtonEl.classList.add('colab-df-spinner');\n",
       "      try {\n",
       "        const charts = await google.colab.kernel.invokeFunction(\n",
       "            'suggestCharts', [key], {});\n",
       "      } catch (error) {\n",
       "        console.error('Error during call to suggestCharts:', error);\n",
       "      }\n",
       "      quickchartButtonEl.classList.remove('colab-df-spinner');\n",
       "      quickchartButtonEl.classList.add('colab-df-quickchart-complete');\n",
       "    }\n",
       "    (() => {\n",
       "      let quickchartButtonEl =\n",
       "        document.querySelector('#df-23d3f486-aba0-454c-801c-08583d6bf00a button');\n",
       "      quickchartButtonEl.style.display =\n",
       "        google.colab.kernel.accessAllowed ? 'block' : 'none';\n",
       "    })();\n",
       "  </script>\n",
       "</div>\n",
       "\n",
       "    </div>\n",
       "  </div>\n"
      ],
      "text/plain": [
       "                 Name  Age  Gender Blood Type Medical Condition  \\\n",
       "0       Bobby JacksOn   30    Male         B-            Cancer   \n",
       "1         DaNnY sMitH   76  Female         A-           Obesity   \n",
       "2       adrIENNE bEll   43  Female        AB+            Cancer   \n",
       "3  CHrisTInA MARtinez   20  Female         A+            Cancer   \n",
       "4      aaRon MARtiNeZ   38  Female         A-      Hypertension   \n",
       "\n",
       "  Date of Admission            Doctor                     Hospital  \\\n",
       "0        2024-01-31     Matthew Smith              Sons and Miller   \n",
       "1        2022-09-22  Tiffany Mitchell                     Cook PLC   \n",
       "2        2022-09-19    Kathleen Hanna                  White-White   \n",
       "3        2021-12-28    Suzanne Thomas  Powell Robinson and Valdez,   \n",
       "4        2023-08-13      Douglas Mayo                  Lyons-Blair   \n",
       "\n",
       "  Insurance Provider  Billing Amount  ...  Admission Type Discharge Date  \\\n",
       "0         Blue Cross    18856.281306  ...          Urgent     2024-02-02   \n",
       "1              Aetna    27955.096079  ...       Emergency     2022-07-10   \n",
       "2              Aetna    14238.317814  ...          Urgent     2022-09-10   \n",
       "3              Cigna    45820.462722  ...       Emergency     2022-07-01   \n",
       "4           Medicare     7999.586880  ...          Urgent     2023-05-09   \n",
       "\n",
       "    Medication  Test Results hospital_stay_duration  age_group admission_year  \\\n",
       "0  Paracetamol        Normal                      2      Child           2024   \n",
       "1      Aspirin        Normal                    -74     Senior           2022   \n",
       "2   Penicillin      Abnormal                     -9      Adult           2022   \n",
       "3  Paracetamol  Inconclusive                    185      Child           2021   \n",
       "4      Lipitor  Inconclusive                    -96      Child           2023   \n",
       "\n",
       "   admission_month  admission_weekday  hospital_category  \n",
       "0                1                  2          Very High  \n",
       "1                9                  3          Very High  \n",
       "2                9                  0             Medium  \n",
       "3               12                  1          Very High  \n",
       "4                8                  6                Low  \n",
       "\n",
       "[5 rows x 21 columns]"
      ]
     },
     "execution_count": 49,
     "metadata": {},
     "output_type": "execute_result"
    }
   ],
   "source": [
    "df.head()"
   ]
  },
  {
   "cell_type": "markdown",
   "metadata": {
    "id": "-gk7gDtEG8oE"
   },
   "source": [
    "*Checking for Missing Values in the Dataset*"
   ]
  },
  {
   "cell_type": "code",
   "execution_count": null,
   "metadata": {
    "colab": {
     "base_uri": "https://localhost:8080/",
     "height": 742
    },
    "id": "TG4c8BntAOi_",
    "outputId": "fd098aa4-efac-4cf5-bd4c-a2b3be9705b2"
   },
   "outputs": [
    {
     "data": {
      "text/html": [
       "<div>\n",
       "<style scoped>\n",
       "    .dataframe tbody tr th:only-of-type {\n",
       "        vertical-align: middle;\n",
       "    }\n",
       "\n",
       "    .dataframe tbody tr th {\n",
       "        vertical-align: top;\n",
       "    }\n",
       "\n",
       "    .dataframe thead th {\n",
       "        text-align: right;\n",
       "    }\n",
       "</style>\n",
       "<table border=\"1\" class=\"dataframe\">\n",
       "  <thead>\n",
       "    <tr style=\"text-align: right;\">\n",
       "      <th></th>\n",
       "      <th>0</th>\n",
       "    </tr>\n",
       "  </thead>\n",
       "  <tbody>\n",
       "    <tr>\n",
       "      <th>Name</th>\n",
       "      <td>0</td>\n",
       "    </tr>\n",
       "    <tr>\n",
       "      <th>Age</th>\n",
       "      <td>0</td>\n",
       "    </tr>\n",
       "    <tr>\n",
       "      <th>Gender</th>\n",
       "      <td>0</td>\n",
       "    </tr>\n",
       "    <tr>\n",
       "      <th>Blood Type</th>\n",
       "      <td>0</td>\n",
       "    </tr>\n",
       "    <tr>\n",
       "      <th>Medical Condition</th>\n",
       "      <td>0</td>\n",
       "    </tr>\n",
       "    <tr>\n",
       "      <th>Date of Admission</th>\n",
       "      <td>0</td>\n",
       "    </tr>\n",
       "    <tr>\n",
       "      <th>Doctor</th>\n",
       "      <td>0</td>\n",
       "    </tr>\n",
       "    <tr>\n",
       "      <th>Hospital</th>\n",
       "      <td>0</td>\n",
       "    </tr>\n",
       "    <tr>\n",
       "      <th>Insurance Provider</th>\n",
       "      <td>0</td>\n",
       "    </tr>\n",
       "    <tr>\n",
       "      <th>Billing Amount</th>\n",
       "      <td>0</td>\n",
       "    </tr>\n",
       "    <tr>\n",
       "      <th>Room Number</th>\n",
       "      <td>0</td>\n",
       "    </tr>\n",
       "    <tr>\n",
       "      <th>Admission Type</th>\n",
       "      <td>0</td>\n",
       "    </tr>\n",
       "    <tr>\n",
       "      <th>Discharge Date</th>\n",
       "      <td>0</td>\n",
       "    </tr>\n",
       "    <tr>\n",
       "      <th>Medication</th>\n",
       "      <td>0</td>\n",
       "    </tr>\n",
       "    <tr>\n",
       "      <th>Test Results</th>\n",
       "      <td>0</td>\n",
       "    </tr>\n",
       "    <tr>\n",
       "      <th>hospital_stay_duration</th>\n",
       "      <td>0</td>\n",
       "    </tr>\n",
       "    <tr>\n",
       "      <th>age_group</th>\n",
       "      <td>0</td>\n",
       "    </tr>\n",
       "    <tr>\n",
       "      <th>admission_year</th>\n",
       "      <td>0</td>\n",
       "    </tr>\n",
       "    <tr>\n",
       "      <th>admission_month</th>\n",
       "      <td>0</td>\n",
       "    </tr>\n",
       "    <tr>\n",
       "      <th>admission_weekday</th>\n",
       "      <td>0</td>\n",
       "    </tr>\n",
       "    <tr>\n",
       "      <th>hospital_category</th>\n",
       "      <td>0</td>\n",
       "    </tr>\n",
       "  </tbody>\n",
       "</table>\n",
       "</div><br><label><b>dtype:</b> int64</label>"
      ],
      "text/plain": [
       "Name                      0\n",
       "Age                       0\n",
       "Gender                    0\n",
       "Blood Type                0\n",
       "Medical Condition         0\n",
       "Date of Admission         0\n",
       "Doctor                    0\n",
       "Hospital                  0\n",
       "Insurance Provider        0\n",
       "Billing Amount            0\n",
       "Room Number               0\n",
       "Admission Type            0\n",
       "Discharge Date            0\n",
       "Medication                0\n",
       "Test Results              0\n",
       "hospital_stay_duration    0\n",
       "age_group                 0\n",
       "admission_year            0\n",
       "admission_month           0\n",
       "admission_weekday         0\n",
       "hospital_category         0\n",
       "dtype: int64"
      ]
     },
     "execution_count": 50,
     "metadata": {},
     "output_type": "execute_result"
    }
   ],
   "source": [
    "df.isnull().sum()"
   ]
  },
  {
   "cell_type": "markdown",
   "metadata": {
    "id": "6nKTpL8RHDmr"
   },
   "source": [
    "*The `df.shape` attribute provides the number of rows and columns in the dataset*"
   ]
  },
  {
   "cell_type": "code",
   "execution_count": null,
   "metadata": {
    "colab": {
     "base_uri": "https://localhost:8080/"
    },
    "id": "_trEb0GPGKQd",
    "outputId": "e9061300-e342-4ecc-b882-db6efa0edee1"
   },
   "outputs": [
    {
     "data": {
      "text/plain": [
       "(21483, 21)"
      ]
     },
     "execution_count": 51,
     "metadata": {},
     "output_type": "execute_result"
    }
   ],
   "source": [
    "df.shape"
   ]
  },
  {
   "cell_type": "markdown",
   "metadata": {
    "id": "0UvB5lS1Hcyc"
   },
   "source": [
    "*The `df.info()` function provides a summary of the dataset, including the number of non-null values, data types of each column, and memory usage*"
   ]
  },
  {
   "cell_type": "code",
   "execution_count": null,
   "metadata": {
    "colab": {
     "base_uri": "https://localhost:8080/"
    },
    "id": "Qn6DHdI9AOhA",
    "outputId": "d622e4f3-851f-452c-9723-f2106b3a992e"
   },
   "outputs": [
    {
     "name": "stdout",
     "output_type": "stream",
     "text": [
      "<class 'pandas.core.frame.DataFrame'>\n",
      "RangeIndex: 21483 entries, 0 to 21482\n",
      "Data columns (total 21 columns):\n",
      " #   Column                  Non-Null Count  Dtype  \n",
      "---  ------                  --------------  -----  \n",
      " 0   Name                    21483 non-null  object \n",
      " 1   Age                     21483 non-null  int64  \n",
      " 2   Gender                  21483 non-null  object \n",
      " 3   Blood Type              21483 non-null  object \n",
      " 4   Medical Condition       21483 non-null  object \n",
      " 5   Date of Admission       21483 non-null  object \n",
      " 6   Doctor                  21483 non-null  object \n",
      " 7   Hospital                21483 non-null  object \n",
      " 8   Insurance Provider      21483 non-null  object \n",
      " 9   Billing Amount          21483 non-null  float64\n",
      " 10  Room Number             21483 non-null  int64  \n",
      " 11  Admission Type          21483 non-null  object \n",
      " 12  Discharge Date          21483 non-null  object \n",
      " 13  Medication              21483 non-null  object \n",
      " 14  Test Results            21483 non-null  object \n",
      " 15  hospital_stay_duration  21483 non-null  int64  \n",
      " 16  age_group               21483 non-null  object \n",
      " 17  admission_year          21483 non-null  int64  \n",
      " 18  admission_month         21483 non-null  int64  \n",
      " 19  admission_weekday       21483 non-null  int64  \n",
      " 20  hospital_category       21483 non-null  object \n",
      "dtypes: float64(1), int64(6), object(14)\n",
      "memory usage: 3.4+ MB\n"
     ]
    }
   ],
   "source": [
    "df.info()"
   ]
  },
  {
   "cell_type": "markdown",
   "metadata": {
    "id": "FtyR7QHcICA5"
   },
   "source": [
    "*Removing Duplicate Records*"
   ]
  },
  {
   "cell_type": "markdown",
   "metadata": {},
   "source": [
    "<h3>Handle Missing and Duplicate Data</h3>"
   ]
  },
  {
   "cell_type": "code",
   "execution_count": null,
   "metadata": {
    "id": "f1JE8YL2AOey"
   },
   "outputs": [],
   "source": [
    "# Drop duplicates\n",
    "df = df.drop_duplicates()"
   ]
  },
  {
   "cell_type": "markdown",
   "metadata": {
    "id": "0wO9TpSdIJkg"
   },
   "source": [
    "* Counting Unique Values in Each Column*"
   ]
  },
  {
   "cell_type": "code",
   "execution_count": null,
   "metadata": {
    "colab": {
     "base_uri": "https://localhost:8080/"
    },
    "id": "i_LFxHhsAOce",
    "outputId": "284cbe1c-fdeb-42d1-ce3e-97fd3e3b949a"
   },
   "outputs": [
    {
     "name": "stdout",
     "output_type": "stream",
     "text": [
      "Name                      19538\n",
      "Age                          76\n",
      "Gender                        2\n",
      "Blood Type                    8\n",
      "Medical Condition             6\n",
      "Date of Admission          1827\n",
      "Doctor                    17573\n",
      "Hospital                  17003\n",
      "Insurance Provider            5\n",
      "Billing Amount            19540\n",
      "Room Number                 400\n",
      "Admission Type                3\n",
      "Discharge Date              730\n",
      "Medication                    5\n",
      "Test Results                  3\n",
      "hospital_stay_duration      677\n",
      "age_group                     4\n",
      "admission_year                6\n",
      "admission_month              12\n",
      "admission_weekday             7\n",
      "hospital_category             4\n",
      "dtype: int64\n"
     ]
    }
   ],
   "source": [
    "print(df.nunique())"
   ]
  },
  {
   "cell_type": "markdown",
   "metadata": {
    "id": "9j0QTzs1ISe_"
   },
   "source": [
    "*The `df.duplicated().sum()` function returns the total number of duplicate rows in the dataset*"
   ]
  },
  {
   "cell_type": "code",
   "execution_count": null,
   "metadata": {
    "colab": {
     "base_uri": "https://localhost:8080/"
    },
    "id": "OUY-AN9EBAGl",
    "outputId": "04ae0638-a1a6-41c5-d3d5-4bcae5522693"
   },
   "outputs": [
    {
     "name": "stdout",
     "output_type": "stream",
     "text": [
      "0\n"
     ]
    }
   ],
   "source": [
    "print(df.duplicated().sum())"
   ]
  },
  {
   "cell_type": "markdown",
   "metadata": {
    "id": "1fLmtrdEIcOM"
   },
   "source": [
    "*The df.shape attribute provides the number of rows and columns in the dataset*"
   ]
  },
  {
   "cell_type": "code",
   "execution_count": null,
   "metadata": {
    "colab": {
     "base_uri": "https://localhost:8080/"
    },
    "id": "GgJjXYQCn4TL",
    "outputId": "23bf3e7a-ac11-4669-ee21-386e9b5debfb"
   },
   "outputs": [
    {
     "data": {
      "text/plain": [
       "(21483, 21)"
      ]
     },
     "execution_count": 56,
     "metadata": {},
     "output_type": "execute_result"
    }
   ],
   "source": [
    "df.shape"
   ]
  },
  {
   "cell_type": "markdown",
   "metadata": {
    "id": "IL_be-ygIkyd"
   },
   "source": [
    "*Statistical Summary of the Dataset*"
   ]
  },
  {
   "cell_type": "code",
   "execution_count": null,
   "metadata": {
    "colab": {
     "base_uri": "https://localhost:8080/",
     "height": 300
    },
    "id": "FRd13GMVBADG",
    "outputId": "d00eb99a-2277-42fd-989c-6c64b69529cf"
   },
   "outputs": [
    {
     "data": {
      "application/vnd.google.colaboratory.intrinsic+json": {
       "summary": "{\n  \"name\": \"df\",\n  \"rows\": 8,\n  \"fields\": [\n    {\n      \"column\": \"Age\",\n      \"properties\": {\n        \"dtype\": \"number\",\n        \"std\": 7578.9032251444705,\n        \"min\": 13.0,\n        \"max\": 21483.0,\n        \"num_unique_values\": 8,\n        \"samples\": [\n          51.62188707349998,\n          52.0,\n          21483.0\n        ],\n        \"semantic_type\": \"\",\n        \"description\": \"\"\n      }\n    },\n    {\n      \"column\": \"Billing Amount\",\n      \"properties\": {\n        \"dtype\": \"number\",\n        \"std\": 16451.22647591023,\n        \"min\": -1660.0093727229796,\n        \"max\": 52764.276736469175,\n        \"num_unique_values\": 8,\n        \"samples\": [\n          25638.82812593705,\n          25721.518076927747,\n          21483.0\n        ],\n        \"semantic_type\": \"\",\n        \"description\": \"\"\n      }\n    },\n    {\n      \"column\": \"Room Number\",\n      \"properties\": {\n        \"dtype\": \"number\",\n        \"std\": 7499.570632806962,\n        \"min\": 101.0,\n        \"max\": 21483.0,\n        \"num_unique_values\": 8,\n        \"samples\": [\n          301.0022808732486,\n          302.0,\n          21483.0\n        ],\n        \"semantic_type\": \"\",\n        \"description\": \"\"\n      }\n    },\n    {\n      \"column\": \"hospital_stay_duration\",\n      \"properties\": {\n        \"dtype\": \"number\",\n        \"std\": 7585.920791748084,\n        \"min\": -322.0,\n        \"max\": 21483.0,\n        \"num_unique_values\": 8,\n        \"samples\": [\n          15.347297863426896,\n          16.0,\n          21483.0\n        ],\n        \"semantic_type\": \"\",\n        \"description\": \"\"\n      }\n    },\n    {\n      \"column\": \"admission_year\",\n      \"properties\": {\n        \"dtype\": \"number\",\n        \"std\": 7018.4199232198935,\n        \"min\": 1.5038916639280486,\n        \"max\": 21483.0,\n        \"num_unique_values\": 8,\n        \"samples\": [\n          2021.334683237909,\n          2021.0,\n          21483.0\n        ],\n        \"semantic_type\": \"\",\n        \"description\": \"\"\n      }\n    },\n    {\n      \"column\": \"admission_month\",\n      \"properties\": {\n        \"dtype\": \"number\",\n        \"std\": 7593.218776684529,\n        \"min\": 1.0,\n        \"max\": 21483.0,\n        \"num_unique_values\": 8,\n        \"samples\": [\n          6.521528650560908,\n          7.0,\n          21483.0\n        ],\n        \"semantic_type\": \"\",\n        \"description\": \"\"\n      }\n    },\n    {\n      \"column\": \"admission_weekday\",\n      \"properties\": {\n        \"dtype\": \"number\",\n        \"std\": 7594.3778171662425,\n        \"min\": 0.0,\n        \"max\": 21483.0,\n        \"num_unique_values\": 8,\n        \"samples\": [\n          2.9926918959177025,\n          3.0,\n          21483.0\n        ],\n        \"semantic_type\": \"\",\n        \"description\": \"\"\n      }\n    }\n  ]\n}",
       "type": "dataframe"
      },
      "text/html": [
       "\n",
       "  <div id=\"df-2126ef09-0fb8-4918-adff-5072b2a0006a\" class=\"colab-df-container\">\n",
       "    <div>\n",
       "<style scoped>\n",
       "    .dataframe tbody tr th:only-of-type {\n",
       "        vertical-align: middle;\n",
       "    }\n",
       "\n",
       "    .dataframe tbody tr th {\n",
       "        vertical-align: top;\n",
       "    }\n",
       "\n",
       "    .dataframe thead th {\n",
       "        text-align: right;\n",
       "    }\n",
       "</style>\n",
       "<table border=\"1\" class=\"dataframe\">\n",
       "  <thead>\n",
       "    <tr style=\"text-align: right;\">\n",
       "      <th></th>\n",
       "      <th>Age</th>\n",
       "      <th>Billing Amount</th>\n",
       "      <th>Room Number</th>\n",
       "      <th>hospital_stay_duration</th>\n",
       "      <th>admission_year</th>\n",
       "      <th>admission_month</th>\n",
       "      <th>admission_weekday</th>\n",
       "    </tr>\n",
       "  </thead>\n",
       "  <tbody>\n",
       "    <tr>\n",
       "      <th>count</th>\n",
       "      <td>21483.000000</td>\n",
       "      <td>21483.000000</td>\n",
       "      <td>21483.000000</td>\n",
       "      <td>21483.000000</td>\n",
       "      <td>21483.000000</td>\n",
       "      <td>21483.000000</td>\n",
       "      <td>21483.000000</td>\n",
       "    </tr>\n",
       "    <tr>\n",
       "      <th>mean</th>\n",
       "      <td>51.621887</td>\n",
       "      <td>25638.828126</td>\n",
       "      <td>301.002281</td>\n",
       "      <td>15.347298</td>\n",
       "      <td>2021.334683</td>\n",
       "      <td>6.521529</td>\n",
       "      <td>2.992692</td>\n",
       "    </tr>\n",
       "    <tr>\n",
       "      <th>std</th>\n",
       "      <td>19.537740</td>\n",
       "      <td>14145.796430</td>\n",
       "      <td>115.354457</td>\n",
       "      <td>143.249211</td>\n",
       "      <td>1.503892</td>\n",
       "      <td>3.432030</td>\n",
       "      <td>2.002813</td>\n",
       "    </tr>\n",
       "    <tr>\n",
       "      <th>min</th>\n",
       "      <td>13.000000</td>\n",
       "      <td>-1660.009373</td>\n",
       "      <td>101.000000</td>\n",
       "      <td>-322.000000</td>\n",
       "      <td>2019.000000</td>\n",
       "      <td>1.000000</td>\n",
       "      <td>0.000000</td>\n",
       "    </tr>\n",
       "    <tr>\n",
       "      <th>25%</th>\n",
       "      <td>35.000000</td>\n",
       "      <td>13481.807680</td>\n",
       "      <td>202.000000</td>\n",
       "      <td>-88.000000</td>\n",
       "      <td>2020.000000</td>\n",
       "      <td>4.000000</td>\n",
       "      <td>1.000000</td>\n",
       "    </tr>\n",
       "    <tr>\n",
       "      <th>50%</th>\n",
       "      <td>52.000000</td>\n",
       "      <td>25721.518077</td>\n",
       "      <td>302.000000</td>\n",
       "      <td>16.000000</td>\n",
       "      <td>2021.000000</td>\n",
       "      <td>7.000000</td>\n",
       "      <td>3.000000</td>\n",
       "    </tr>\n",
       "    <tr>\n",
       "      <th>75%</th>\n",
       "      <td>68.000000</td>\n",
       "      <td>37778.010633</td>\n",
       "      <td>400.000000</td>\n",
       "      <td>118.000000</td>\n",
       "      <td>2023.000000</td>\n",
       "      <td>9.000000</td>\n",
       "      <td>5.000000</td>\n",
       "    </tr>\n",
       "    <tr>\n",
       "      <th>max</th>\n",
       "      <td>88.000000</td>\n",
       "      <td>52764.276736</td>\n",
       "      <td>500.000000</td>\n",
       "      <td>354.000000</td>\n",
       "      <td>2024.000000</td>\n",
       "      <td>12.000000</td>\n",
       "      <td>6.000000</td>\n",
       "    </tr>\n",
       "  </tbody>\n",
       "</table>\n",
       "</div>\n",
       "    <div class=\"colab-df-buttons\">\n",
       "\n",
       "  <div class=\"colab-df-container\">\n",
       "    <button class=\"colab-df-convert\" onclick=\"convertToInteractive('df-2126ef09-0fb8-4918-adff-5072b2a0006a')\"\n",
       "            title=\"Convert this dataframe to an interactive table.\"\n",
       "            style=\"display:none;\">\n",
       "\n",
       "  <svg xmlns=\"http://www.w3.org/2000/svg\" height=\"24px\" viewBox=\"0 -960 960 960\">\n",
       "    <path d=\"M120-120v-720h720v720H120Zm60-500h600v-160H180v160Zm220 220h160v-160H400v160Zm0 220h160v-160H400v160ZM180-400h160v-160H180v160Zm440 0h160v-160H620v160ZM180-180h160v-160H180v160Zm440 0h160v-160H620v160Z\"/>\n",
       "  </svg>\n",
       "    </button>\n",
       "\n",
       "  <style>\n",
       "    .colab-df-container {\n",
       "      display:flex;\n",
       "      gap: 12px;\n",
       "    }\n",
       "\n",
       "    .colab-df-convert {\n",
       "      background-color: #E8F0FE;\n",
       "      border: none;\n",
       "      border-radius: 50%;\n",
       "      cursor: pointer;\n",
       "      display: none;\n",
       "      fill: #1967D2;\n",
       "      height: 32px;\n",
       "      padding: 0 0 0 0;\n",
       "      width: 32px;\n",
       "    }\n",
       "\n",
       "    .colab-df-convert:hover {\n",
       "      background-color: #E2EBFA;\n",
       "      box-shadow: 0px 1px 2px rgba(60, 64, 67, 0.3), 0px 1px 3px 1px rgba(60, 64, 67, 0.15);\n",
       "      fill: #174EA6;\n",
       "    }\n",
       "\n",
       "    .colab-df-buttons div {\n",
       "      margin-bottom: 4px;\n",
       "    }\n",
       "\n",
       "    [theme=dark] .colab-df-convert {\n",
       "      background-color: #3B4455;\n",
       "      fill: #D2E3FC;\n",
       "    }\n",
       "\n",
       "    [theme=dark] .colab-df-convert:hover {\n",
       "      background-color: #434B5C;\n",
       "      box-shadow: 0px 1px 3px 1px rgba(0, 0, 0, 0.15);\n",
       "      filter: drop-shadow(0px 1px 2px rgba(0, 0, 0, 0.3));\n",
       "      fill: #FFFFFF;\n",
       "    }\n",
       "  </style>\n",
       "\n",
       "    <script>\n",
       "      const buttonEl =\n",
       "        document.querySelector('#df-2126ef09-0fb8-4918-adff-5072b2a0006a button.colab-df-convert');\n",
       "      buttonEl.style.display =\n",
       "        google.colab.kernel.accessAllowed ? 'block' : 'none';\n",
       "\n",
       "      async function convertToInteractive(key) {\n",
       "        const element = document.querySelector('#df-2126ef09-0fb8-4918-adff-5072b2a0006a');\n",
       "        const dataTable =\n",
       "          await google.colab.kernel.invokeFunction('convertToInteractive',\n",
       "                                                    [key], {});\n",
       "        if (!dataTable) return;\n",
       "\n",
       "        const docLinkHtml = 'Like what you see? Visit the ' +\n",
       "          '<a target=\"_blank\" href=https://colab.research.google.com/notebooks/data_table.ipynb>data table notebook</a>'\n",
       "          + ' to learn more about interactive tables.';\n",
       "        element.innerHTML = '';\n",
       "        dataTable['output_type'] = 'display_data';\n",
       "        await google.colab.output.renderOutput(dataTable, element);\n",
       "        const docLink = document.createElement('div');\n",
       "        docLink.innerHTML = docLinkHtml;\n",
       "        element.appendChild(docLink);\n",
       "      }\n",
       "    </script>\n",
       "  </div>\n",
       "\n",
       "\n",
       "<div id=\"df-0e0f94d7-4d9b-4ea7-9e56-ff4048f44e6a\">\n",
       "  <button class=\"colab-df-quickchart\" onclick=\"quickchart('df-0e0f94d7-4d9b-4ea7-9e56-ff4048f44e6a')\"\n",
       "            title=\"Suggest charts\"\n",
       "            style=\"display:none;\">\n",
       "\n",
       "<svg xmlns=\"http://www.w3.org/2000/svg\" height=\"24px\"viewBox=\"0 0 24 24\"\n",
       "     width=\"24px\">\n",
       "    <g>\n",
       "        <path d=\"M19 3H5c-1.1 0-2 .9-2 2v14c0 1.1.9 2 2 2h14c1.1 0 2-.9 2-2V5c0-1.1-.9-2-2-2zM9 17H7v-7h2v7zm4 0h-2V7h2v10zm4 0h-2v-4h2v4z\"/>\n",
       "    </g>\n",
       "</svg>\n",
       "  </button>\n",
       "\n",
       "<style>\n",
       "  .colab-df-quickchart {\n",
       "      --bg-color: #E8F0FE;\n",
       "      --fill-color: #1967D2;\n",
       "      --hover-bg-color: #E2EBFA;\n",
       "      --hover-fill-color: #174EA6;\n",
       "      --disabled-fill-color: #AAA;\n",
       "      --disabled-bg-color: #DDD;\n",
       "  }\n",
       "\n",
       "  [theme=dark] .colab-df-quickchart {\n",
       "      --bg-color: #3B4455;\n",
       "      --fill-color: #D2E3FC;\n",
       "      --hover-bg-color: #434B5C;\n",
       "      --hover-fill-color: #FFFFFF;\n",
       "      --disabled-bg-color: #3B4455;\n",
       "      --disabled-fill-color: #666;\n",
       "  }\n",
       "\n",
       "  .colab-df-quickchart {\n",
       "    background-color: var(--bg-color);\n",
       "    border: none;\n",
       "    border-radius: 50%;\n",
       "    cursor: pointer;\n",
       "    display: none;\n",
       "    fill: var(--fill-color);\n",
       "    height: 32px;\n",
       "    padding: 0;\n",
       "    width: 32px;\n",
       "  }\n",
       "\n",
       "  .colab-df-quickchart:hover {\n",
       "    background-color: var(--hover-bg-color);\n",
       "    box-shadow: 0 1px 2px rgba(60, 64, 67, 0.3), 0 1px 3px 1px rgba(60, 64, 67, 0.15);\n",
       "    fill: var(--button-hover-fill-color);\n",
       "  }\n",
       "\n",
       "  .colab-df-quickchart-complete:disabled,\n",
       "  .colab-df-quickchart-complete:disabled:hover {\n",
       "    background-color: var(--disabled-bg-color);\n",
       "    fill: var(--disabled-fill-color);\n",
       "    box-shadow: none;\n",
       "  }\n",
       "\n",
       "  .colab-df-spinner {\n",
       "    border: 2px solid var(--fill-color);\n",
       "    border-color: transparent;\n",
       "    border-bottom-color: var(--fill-color);\n",
       "    animation:\n",
       "      spin 1s steps(1) infinite;\n",
       "  }\n",
       "\n",
       "  @keyframes spin {\n",
       "    0% {\n",
       "      border-color: transparent;\n",
       "      border-bottom-color: var(--fill-color);\n",
       "      border-left-color: var(--fill-color);\n",
       "    }\n",
       "    20% {\n",
       "      border-color: transparent;\n",
       "      border-left-color: var(--fill-color);\n",
       "      border-top-color: var(--fill-color);\n",
       "    }\n",
       "    30% {\n",
       "      border-color: transparent;\n",
       "      border-left-color: var(--fill-color);\n",
       "      border-top-color: var(--fill-color);\n",
       "      border-right-color: var(--fill-color);\n",
       "    }\n",
       "    40% {\n",
       "      border-color: transparent;\n",
       "      border-right-color: var(--fill-color);\n",
       "      border-top-color: var(--fill-color);\n",
       "    }\n",
       "    60% {\n",
       "      border-color: transparent;\n",
       "      border-right-color: var(--fill-color);\n",
       "    }\n",
       "    80% {\n",
       "      border-color: transparent;\n",
       "      border-right-color: var(--fill-color);\n",
       "      border-bottom-color: var(--fill-color);\n",
       "    }\n",
       "    90% {\n",
       "      border-color: transparent;\n",
       "      border-bottom-color: var(--fill-color);\n",
       "    }\n",
       "  }\n",
       "</style>\n",
       "\n",
       "  <script>\n",
       "    async function quickchart(key) {\n",
       "      const quickchartButtonEl =\n",
       "        document.querySelector('#' + key + ' button');\n",
       "      quickchartButtonEl.disabled = true;  // To prevent multiple clicks.\n",
       "      quickchartButtonEl.classList.add('colab-df-spinner');\n",
       "      try {\n",
       "        const charts = await google.colab.kernel.invokeFunction(\n",
       "            'suggestCharts', [key], {});\n",
       "      } catch (error) {\n",
       "        console.error('Error during call to suggestCharts:', error);\n",
       "      }\n",
       "      quickchartButtonEl.classList.remove('colab-df-spinner');\n",
       "      quickchartButtonEl.classList.add('colab-df-quickchart-complete');\n",
       "    }\n",
       "    (() => {\n",
       "      let quickchartButtonEl =\n",
       "        document.querySelector('#df-0e0f94d7-4d9b-4ea7-9e56-ff4048f44e6a button');\n",
       "      quickchartButtonEl.style.display =\n",
       "        google.colab.kernel.accessAllowed ? 'block' : 'none';\n",
       "    })();\n",
       "  </script>\n",
       "</div>\n",
       "\n",
       "    </div>\n",
       "  </div>\n"
      ],
      "text/plain": [
       "                Age  Billing Amount   Room Number  hospital_stay_duration  \\\n",
       "count  21483.000000    21483.000000  21483.000000            21483.000000   \n",
       "mean      51.621887    25638.828126    301.002281               15.347298   \n",
       "std       19.537740    14145.796430    115.354457              143.249211   \n",
       "min       13.000000    -1660.009373    101.000000             -322.000000   \n",
       "25%       35.000000    13481.807680    202.000000              -88.000000   \n",
       "50%       52.000000    25721.518077    302.000000               16.000000   \n",
       "75%       68.000000    37778.010633    400.000000              118.000000   \n",
       "max       88.000000    52764.276736    500.000000              354.000000   \n",
       "\n",
       "       admission_year  admission_month  admission_weekday  \n",
       "count    21483.000000     21483.000000       21483.000000  \n",
       "mean      2021.334683         6.521529           2.992692  \n",
       "std          1.503892         3.432030           2.002813  \n",
       "min       2019.000000         1.000000           0.000000  \n",
       "25%       2020.000000         4.000000           1.000000  \n",
       "50%       2021.000000         7.000000           3.000000  \n",
       "75%       2023.000000         9.000000           5.000000  \n",
       "max       2024.000000        12.000000           6.000000  "
      ]
     },
     "execution_count": 57,
     "metadata": {},
     "output_type": "execute_result"
    }
   ],
   "source": [
    "df.describe()"
   ]
  },
  {
   "cell_type": "markdown",
   "metadata": {
    "id": "SxiXmzBfIt8y"
   },
   "source": [
    "* Handling Missing Values in Categorical Columns*"
   ]
  },
  {
   "cell_type": "code",
   "execution_count": null,
   "metadata": {
    "id": "1OVhAR46Cy4o"
   },
   "outputs": [],
   "source": [
    "#no. of missing value is large ->mode\n",
    "#no. of missing value is less ->mean\n",
    "for col in df.select_dtypes(include=['object']):\n",
    "    df[col].fillna(df[col].mode()[0],inplace=True)"
   ]
  },
  {
   "cell_type": "code",
   "execution_count": null,
   "metadata": {
    "id": "s_rybKesCy1L"
   },
   "outputs": [],
   "source": [
    "for col in df.select_dtypes(include=['number']):\n",
    "    df[col].fillna(df[col].mean(), inplace=True)"
   ]
  },
  {
   "cell_type": "markdown",
   "metadata": {
    "id": "wgi955TRI2XT"
   },
   "source": [
    "*Converting Date Columns to Datetime Format*"
   ]
  },
  {
   "cell_type": "markdown",
   "metadata": {},
   "source": [
    "<h3>Feature Engineering</h3>"
   ]
  },
  {
   "cell_type": "code",
   "execution_count": null,
   "metadata": {
    "id": "PGwwQqjsCyyl"
   },
   "outputs": [],
   "source": [
    "# Convert date columns to datetime format\n",
    "date_columns = ['Date of Admission', 'Discharge Date']\n",
    "for col in date_columns:\n",
    "    df[col] = pd.to_datetime(df[col], dayfirst=True, errors='coerce')"
   ]
  },
  {
   "cell_type": "markdown",
   "metadata": {
    "id": "Lxilt2LBJByh"
   },
   "source": [
    "*List of Date Columns*"
   ]
  },
  {
   "cell_type": "code",
   "execution_count": null,
   "metadata": {
    "colab": {
     "base_uri": "https://localhost:8080/"
    },
    "id": "7x5ln1iPCywT",
    "outputId": "d268d9de-0af9-4b82-f40e-578fe5ec24ac"
   },
   "outputs": [
    {
     "data": {
      "text/plain": [
       "['Date of Admission', 'Discharge Date']"
      ]
     },
     "execution_count": 62,
     "metadata": {},
     "output_type": "execute_result"
    }
   ],
   "source": [
    "date_columns"
   ]
  },
  {
   "cell_type": "markdown",
   "metadata": {
    "id": "7I_RYfDRJOZ6"
   },
   "source": [
    "*Removing Rows with Missing Date Values*"
   ]
  },
  {
   "cell_type": "code",
   "execution_count": null,
   "metadata": {
    "id": "fLqXWDNHBAA_"
   },
   "outputs": [],
   "source": [
    "# Drop rows with invalid dates\n",
    "df = df.dropna(subset=date_columns)"
   ]
  },
  {
   "cell_type": "markdown",
   "metadata": {
    "id": "bj7eFSEtJTQs"
   },
   "source": [
    "*The df.shape attribute provides the number of rows and columns in the dataset*"
   ]
  },
  {
   "cell_type": "code",
   "execution_count": null,
   "metadata": {
    "colab": {
     "base_uri": "https://localhost:8080/"
    },
    "id": "9hqPHdlgA_-Z",
    "outputId": "d8ac647d-6c8e-4948-8d04-00310774d4dd"
   },
   "outputs": [
    {
     "data": {
      "text/plain": [
       "(21483, 21)"
      ]
     },
     "execution_count": 64,
     "metadata": {},
     "output_type": "execute_result"
    }
   ],
   "source": [
    "df.shape"
   ]
  },
  {
   "cell_type": "markdown",
   "metadata": {
    "id": "wetSHi8yJkUx"
   },
   "source": [
    "**Feature Engineering and Data Transformation**\n",
    "\n",
    "*These transformations provide insights into patient demographics, hospital performance, and medical trends.*\n"
   ]
  },
  {
   "cell_type": "code",
   "execution_count": null,
   "metadata": {
    "id": "S_DdobblA_7D"
   },
   "outputs": [],
   "source": [
    "df['hospital_stay_duration'] = (df['Discharge Date'] - df['Date of Admission']).dt.days\n",
    "df['age_group'] = pd.cut(df['Age'], bins=[ 10, 40, 50, 60,100], labels=['Child',  'Adult', 'Middle Age', 'Senior'])\n",
    "df['admission_year'] = df['Date of Admission'].dt.year\n",
    "df['admission_month'] = df['Date of Admission'].dt.month\n",
    "df['admission_weekday'] = df['Date of Admission'].dt.weekday\n",
    "total_billing_by_hospital = df.groupby('Hospital')['Billing Amount'].sum()\n",
    "department_categories = pd.qcut(total_billing_by_hospital, q=4, labels=['Low', 'Medium', 'High', 'Very High'])\n",
    "df['hospital_category'] = df['Hospital'].map(department_categories)\n",
    "avg_stay_duration_by_medical_condition = df.groupby('Medical Condition')['hospital_stay_duration'].mean().sort_values(\n",
    "    ascending=False)\n",
    "patients_by_medication_category = df.groupby('Medical Condition')['age_group'].nunique().sort_values(ascending=False)\n"
   ]
  },
  {
   "cell_type": "markdown",
   "metadata": {
    "id": "TDV9DPC0KPyr"
   },
   "source": [
    "* Visualizing Numerical Feature Distributions\n",
    "\n",
    "This loop generates histogram plots for selected numerical columns to analyze their distributions:*"
   ]
  },
  {
   "cell_type": "markdown",
   "metadata": {},
   "source": [
    "<h3>Univariate Analysis</h3>"
   ]
  },
  {
   "cell_type": "code",
   "execution_count": null,
   "metadata": {
    "colab": {
     "base_uri": "https://localhost:8080/",
     "height": 1000
    },
    "id": "xkM2WLgtA_4G",
    "outputId": "c501644e-b466-4689-b34f-989b3edc50c7"
   },
   "outputs": [
    {
     "data": {
      "image/png": "[encoded data removed]",
      "text/plain": [
       "<Figure size 800x400 with 1 Axes>"
      ]
     },
     "metadata": {},
     "output_type": "display_data"
    },
    {
     "data": {
      "image/png": "[encoded data removed]",
      "text/plain": [
       "<Figure size 800x400 with 1 Axes>"
      ]
     },
     "metadata": {},
     "output_type": "display_data"
    },
    {
     "data": {
      "image/png": "[encoded data removed]",
      "text/plain": [
       "<Figure size 800x400 with 1 Axes>"
      ]
     },
     "metadata": {},
     "output_type": "display_data"
    }
   ],
   "source": [
    "numerical_cols = ['Age', 'hospital_stay_duration', 'Billing Amount']\n",
    "for col in numerical_cols:\n",
    "    plt.figure(figsize=(8, 4))\n",
    "    sns.histplot(df[col],color='r', bins=50, edgecolor='black', alpha=0.7)\n",
    "    plt.title(f\"Distribution of {col}\")\n",
    "    plt.show()"
   ]
  },
  {
   "cell_type": "markdown",
   "metadata": {
    "id": "GnSZ6hTCKgkE"
   },
   "source": [
    "*These visualizations help identify dominant categories, potential data imbalances, and trends in categorical attributes.*"
   ]
  },
  {
   "cell_type": "code",
   "execution_count": null,
   "metadata": {
    "colab": {
     "base_uri": "https://localhost:8080/",
     "height": 1000
    },
    "id": "y3nJZusiA_1j",
    "outputId": "5c6a55c2-56e9-435b-c158-c4200810d83d"
   },
   "outputs": [
    {
     "data": {
      "image/png": "[encoded data removed]",
      "text/plain": [
       "<Figure size 800x400 with 1 Axes>"
      ]
     },
     "metadata": {},
     "output_type": "display_data"
    },
    {
     "data": {
      "image/png": "[encoded data removed]",
      "text/plain": [
       "<Figure size 800x400 with 1 Axes>"
      ]
     },
     "metadata": {},
     "output_type": "display_data"
    },
    {
     "data": {
      "image/png": "[encoded data removed]",
      "text/plain": [
       "<Figure size 800x400 with 1 Axes>"
      ]
     },
     "metadata": {},
     "output_type": "display_data"
    }
   ],
   "source": [
    "categorical_cols = [ 'Blood Type', 'Test Results', 'age_group']\n",
    "for col in categorical_cols:\n",
    "    plt.figure(figsize=(8, 4))\n",
    "    value_counts = df[col].value_counts()\n",
    "    plt.bar(value_counts.index, value_counts.values, color='blue', edgecolor='black')\n",
    "    plt.title(f\"Distribution of {col}\", style='italic')\n",
    "    plt.xlabel(col)\n",
    "    plt.ylabel(\"Count\")\n",
    "    plt.xticks(rotation=45)\n",
    "    plt.legend()\n",
    "    plt.show()\n"
   ]
  },
  {
   "cell_type": "markdown",
   "metadata": {
    "id": "E-JT5CKSKsd5"
   },
   "source": [
    "*Treatment by Age Group*\n",
    "\n",
    "*This bar plot visualizes the average age within each age group. It helps in understanding the distribution of treatments across different age categories, providing insights into which age groups require more medical attention*"
   ]
  },
  {
   "cell_type": "markdown",
   "metadata": {},
   "source": [
    "<h3>Bivariate Analysis</h3>"
   ]
  },
  {
   "cell_type": "code",
   "execution_count": null,
   "metadata": {
    "colab": {
     "base_uri": "https://localhost:8080/",
     "height": 615
    },
    "id": "OEaI3hA2HYgp",
    "outputId": "ff65b65a-67d8-41f2-a7cf-eee2a95e435d"
   },
   "outputs": [
    {
     "data": {
      "image/png": "[encoded data removed]",
      "text/plain": [
       "<Figure size 1000x600 with 1 Axes>"
      ]
     },
     "metadata": {},
     "output_type": "display_data"
    }
   ],
   "source": [
    "plt.figure(figsize=(10, 6))\n",
    "sns.barplot(x='age_group', y='Age', data=df, ci=None)\n",
    "plt.title(\"Treatment by Age Group\")\n",
    "plt.xticks(rotation=45)\n",
    "plt.show()\n"
   ]
  },
  {
   "cell_type": "markdown",
   "metadata": {
    "id": "tRdddnjfLCRH"
   },
   "source": [
    "*Billing Amount by Insurance Provider*\n",
    "\n",
    "*This violin plot visualizes the distribution of billing amounts across different insurance providers. It helps in understanding variations in medical expenses and identifying potential discrepancies or trends among insurance companies.*"
   ]
  },
  {
   "cell_type": "code",
   "execution_count": null,
   "metadata": {
    "colab": {
     "base_uri": "https://localhost:8080/",
     "height": 646
    },
    "id": "ws-O590RHYdS",
    "outputId": "1bfc9434-3eb7-4acb-81b7-aa5234b70d45"
   },
   "outputs": [
    {
     "data": {
      "image/png": "[encoded data removed]",
      "text/plain": [
       "<Figure size 900x600 with 1 Axes>"
      ]
     },
     "metadata": {},
     "output_type": "display_data"
    }
   ],
   "source": [
    "plt.figure(figsize=(9, 6))\n",
    "sns.barplot(x='Insurance Provider', y='Billing Amount', data=df, ci=None, palette='viridis')\n",
    "plt.title(\"Billing Amount by Insurance Provider\")\n",
    "plt.xticks(rotation=45)\n",
    "plt.xlabel(\"Insurance Provider\")\n",
    "plt.ylabel(\"Billing Amount\")\n",
    "plt.show()"
   ]
  },
  {
   "cell_type": "markdown",
   "metadata": {
    "id": "GEqmsgR1LSdm"
   },
   "source": [
    "*Admissions by Month*\n",
    "\n",
    "*This bar plot visualizes the number of hospital admissions for each month across different years. It helps in identifying seasonal trends in patient admissions and potential patterns in healthcare demand.*"
   ]
  },
  {
   "cell_type": "code",
   "execution_count": null,
   "metadata": {
    "colab": {
     "base_uri": "https://localhost:8080/",
     "height": 585
    },
    "id": "j6wgdyXqHYa9",
    "outputId": "cb7807d8-e71b-47d8-a93e-2f3bc625f96a"
   },
   "outputs": [
    {
     "data": {
      "image/png": "[encoded data removed]",
      "text/plain": [
       "<Figure size 1000x600 with 1 Axes>"
      ]
     },
     "metadata": {},
     "output_type": "display_data"
    }
   ],
   "source": [
    "plt.figure(figsize=(10, 6))\n",
    "sns.barplot(x='admission_year', y='admission_month', data=df, ci=None,palette='magma')\n",
    "plt.title(\"Admission by month\")\n",
    "plt.xticks(rotation=45)\n",
    "plt.show()"
   ]
  },
  {
   "cell_type": "markdown",
   "metadata": {
    "id": "1ujv7iRXLcuy"
   },
   "source": [
    "*Hospital Stay Duration by Age Group*\n",
    "\n",
    "*This bar plot visualizes the average hospital stay duration for each age group. It helps in understanding how hospital stays vary among different age categories, providing insights into healthcare needs across demographics.*"
   ]
  },
  {
   "cell_type": "code",
   "execution_count": null,
   "metadata": {
    "colab": {
     "base_uri": "https://localhost:8080/",
     "height": 615
    },
    "id": "fQDB_ppSHYYy",
    "outputId": "d2e2a9b3-8254-45da-c215-a78bf50d53f9"
   },
   "outputs": [
    {
     "data": {
      "image/png": "[encoded data removed]",
      "text/plain": [
       "<Figure size 1200x600 with 1 Axes>"
      ]
     },
     "metadata": {},
     "output_type": "display_data"
    }
   ],
   "source": [
    "plt.figure(figsize=(12, 6))\n",
    "sns.barplot(x='age_group', y='hospital_stay_duration', data=df, ci=None,palette='magma')\n",
    "plt.title(\"Hospital Stay Duration by Gender\")\n",
    "plt.xticks(rotation=45)\n",
    "plt.show()"
   ]
  },
  {
   "cell_type": "code",
   "execution_count": null,
   "metadata": {},
   "outputs": [],
   "source": []
  }
 ],
 "metadata": {
  "colab": {
   "provenance": []
  },
  "kernelspec": {
   "display_name": "Python 3 (ipykernel)",
   "language": "python",
   "name": "python3"
  },
  "language_info": {
   "codemirror_mode": {
    "name": "ipython",
    "version": 3
   },
   "file_extension": ".py",
   "mimetype": "text/x-python",
   "name": "python",
   "nbconvert_exporter": "python",
   "pygments_lexer": "ipython3",
   "version": "3.12.7"
  }
 },
 "nbformat": 4,
 "nbformat_minor": 4
}
